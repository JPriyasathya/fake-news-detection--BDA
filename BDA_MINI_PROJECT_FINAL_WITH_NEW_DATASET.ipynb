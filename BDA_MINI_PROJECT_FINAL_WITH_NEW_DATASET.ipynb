{
  "nbformat": 4,
  "nbformat_minor": 0,
  "metadata": {
    "colab": {
      "provenance": []
    },
    "kernelspec": {
      "name": "python3",
      "display_name": "Python 3"
    },
    "language_info": {
      "name": "python"
    }
  },
  "cells": [
    {
      "cell_type": "code",
      "execution_count": null,
      "metadata": {
        "colab": {
          "base_uri": "https://localhost:8080/"
        },
        "id": "ak5Q7uzP9iM3",
        "outputId": "47be6f7b-f705-4e2d-a126-59a5c7b6657a"
      },
      "outputs": [
        {
          "output_type": "stream",
          "name": "stdout",
          "text": [
            "                                               title  \\\n",
            "0  Ben Stein Calls Out 9th Circuit Court: Committ...   \n",
            "1  Trump drops Steve Bannon from National Securit...   \n",
            "2  Puerto Rico expects U.S. to lift Jones Act shi...   \n",
            "3   OOPS: Trump Just Accidentally Confirmed He Le...   \n",
            "4  Donald Trump heads for Scotland to reopen a go...   \n",
            "\n",
            "                                                text       subject  \\\n",
            "0  21st Century Wire says Ben Stein, reputable pr...       US_News   \n",
            "1  WASHINGTON (Reuters) - U.S. President Donald T...  politicsNews   \n",
            "2  (Reuters) - Puerto Rico Governor Ricardo Rosse...  politicsNews   \n",
            "3  On Monday, Donald Trump once again embarrassed...          News   \n",
            "4  GLASGOW, Scotland (Reuters) - Most U.S. presid...  politicsNews   \n",
            "\n",
            "                  date  label  \n",
            "0    February 13, 2017      0  \n",
            "1       April 5, 2017       1  \n",
            "2  September 27, 2017       1  \n",
            "3         May 22, 2017      0  \n",
            "4       June 24, 2016       1  \n"
          ]
        }
      ],
      "source": [
        "import pandas as pd\n",
        "\n",
        "# Load the datasets\n",
        "fake_df = pd.read_csv('/content/drive/MyDrive/BDA_DATASET_NEW/fake.csv')\n",
        "true_df = pd.read_csv('/content/drive/MyDrive/BDA_DATASET_NEW/true.csv')\n",
        "\n",
        "# Add a 'label' column to both datasets\n",
        "fake_df['label'] = 0  # 0 for Fake news\n",
        "true_df['label'] = 1  # 1 for Real news\n",
        "\n",
        "# Combine the datasets\n",
        "df = pd.concat([fake_df, true_df]).reset_index(drop=True)\n",
        "# reset index it used to change the index number from 0 to n-1\n",
        "\n",
        "# Shuffle the dataset to mix fake and real news\n",
        "df = df.sample(frac=1, random_state=42).reset_index(drop=True)\n",
        "\n",
        "# Check the structure of the dataset\n",
        "print(df.head())\n"
      ]
    },
    {
      "cell_type": "code",
      "source": [
        "from sklearn.model_selection import train_test_split\n",
        "\n",
        "# Check columns and prepare the text data\n",
        "df['content'] = df['title'].astype(str) + ' ' + df['text'].astype(str)  # Combining title and text\n",
        "X = df['content'] #feature matrix which contains all the inputs\n",
        "y = df['label']   #target variable which contains the labels (0 and 1)\n",
        "\n",
        "# Split data into training and testing sets\n",
        "X_train, X_test, y_train, y_test = train_test_split(X, y, test_size=0.2, random_state=42)\n",
        "\n",
        "#This ensures that the shuffling is reproducible (i.e.we  get the same random shuffle every time we run the code).\n"
      ],
      "metadata": {
        "id": "j_AxDAhY9uz2"
      },
      "execution_count": null,
      "outputs": []
    },
    {
      "cell_type": "code",
      "source": [
        "from sklearn.feature_extraction.text import TfidfVectorizer\n",
        "#This will convert the text data into numerical form using the TF-IDF method (Term Frequency-Inverse Document Frequency).\n",
        "\n",
        "from sklearn.linear_model import LogisticRegression\n",
        "#This will be the model used to classify the news articles as fake or real.\n",
        "\n",
        "from sklearn.pipeline import make_pipeline\n",
        "#A utility function to create a pipeline that chains together multiple steps, making the workflow cleaner.\n",
        "\n",
        "from sklearn.metrics import accuracy_score, classification_report\n",
        "#These functions are used to evaluate the model’s performance.\n",
        "\n",
        "# Define the pipeline\n",
        "model_pipeline = make_pipeline(TfidfVectorizer(max_features=5000), LogisticRegression(max_iter=1000))\n",
        "\n",
        "# Train the model\n",
        "model_pipeline.fit(X_train, y_train)\n",
        "\n",
        "# Evaluate the model\n",
        "y_pred = model_pipeline.predict(X_test)\n",
        "# The model predicts the labels for the test data.\n",
        "\n",
        "accuracy = accuracy_score(y_test, y_pred)\n",
        " #The accuracy of the model is calculated by comparing the predicted labels (y_pred) to the true labels (y_test).\n",
        "\n",
        "print(\"Accuracy:\", accuracy)\n",
        "print(\"Classification Report:\\n\", classification_report(y_test, y_pred))\n"
      ],
      "metadata": {
        "colab": {
          "base_uri": "https://localhost:8080/"
        },
        "id": "IS-hmcdM9zis",
        "outputId": "f9ebc114-c231-4ac5-b779-95360b3d9192"
      },
      "execution_count": null,
      "outputs": [
        {
          "output_type": "stream",
          "name": "stdout",
          "text": [
            "Accuracy: 0.9863028953229399\n",
            "Classification Report:\n",
            "               precision    recall  f1-score   support\n",
            "\n",
            "           0       0.99      0.98      0.99      4710\n",
            "           1       0.98      0.99      0.99      4270\n",
            "\n",
            "    accuracy                           0.99      8980\n",
            "   macro avg       0.99      0.99      0.99      8980\n",
            "weighted avg       0.99      0.99      0.99      8980\n",
            "\n"
          ]
        }
      ]
    },
    {
      "cell_type": "code",
      "source": [
        "import pickle\n",
        "\n",
        "# Save the trained model\n",
        "model_path = 'model_pipeline.pkl'\n",
        "with open(model_path, 'wb') as file:\n",
        "    pickle.dump(model_pipeline, file)\n",
        "print(f\"Model saved to {model_path}\")\n"
      ],
      "metadata": {
        "colab": {
          "base_uri": "https://localhost:8080/"
        },
        "id": "j0y2UzUg91vl",
        "outputId": "37d89b82-78a2-4bf4-99c4-a472f9e136b3"
      },
      "execution_count": null,
      "outputs": [
        {
          "output_type": "stream",
          "name": "stdout",
          "text": [
            "Model saved to model_pipeline.pkl\n"
          ]
        }
      ]
    }
  ]
}